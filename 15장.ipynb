{
 "cells": [
  {
   "cell_type": "code",
   "execution_count": null,
   "metadata": {},
   "outputs": [],
   "source": [
    "Class BinaryHeap(object):\n",
    "    def __init__(self):\n",
    "        self.items = [None]\n",
    "    \n",
    "    def __len__(self):\n",
    "        return len(self.items) -1\n",
    "    \n",
    "    def _percolate_up(self):\n",
    "        i = len(self)\n",
    "        parent = i//2\n",
    "        while parent > 0:\n",
    "            if self.items[i] < self.items[parent]:\n",
    "                self.items[parent],self.items[i]= /\n",
    "                    self.items[i], self.items[parent]\n",
    "            i = parent\n",
    "            parent = i//2\n",
    "def insert(self,k):\n",
    "    self.items.append(k)\n",
    "    self._percolate_up()"
   ]
  }
 ],
 "metadata": {
  "kernelspec": {
   "display_name": "Python 3",
   "language": "python",
   "name": "python3"
  },
  "language_info": {
   "codemirror_mode": {
    "name": "ipython",
    "version": 3
   },
   "file_extension": ".py",
   "mimetype": "text/x-python",
   "name": "python",
   "nbconvert_exporter": "python",
   "pygments_lexer": "ipython3",
   "version": "3.8.5"
  }
 },
 "nbformat": 4,
 "nbformat_minor": 4
}
